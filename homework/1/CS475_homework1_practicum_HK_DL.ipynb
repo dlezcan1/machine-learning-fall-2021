{
 "cells": [
  {
   "cell_type": "markdown",
   "metadata": {
    "id": "UwU-lXZEFV-4"
   },
   "source": [
    "# Homework 1 Practicum (35 Points)\n",
    "### Version 1.0 (September 13, 2021)\n",
    "\n"
   ]
  },
  {
   "cell_type": "markdown",
   "metadata": {
    "id": "yS_0juBfFV-5"
   },
   "source": [
    "**Instructions:**\n",
    "This notebook is intended to guide you through creating and exploring your dataset. Please answer all questions in this notebook (you will see <font color='blue'>TODO</font> annotations for where to include your answers). At the beginning of each part, we will bullet the expected deliverables for you to complete. All questions can be answered in 1-4 sentences, unless otherwise noted.\n",
    "\n",
    "Please <font color='blue'>make a copy of this notebook in your own drive</font> before you make any edits. You can do so through File -> Save a copy in Drive"
   ]
  },
  {
   "cell_type": "markdown",
   "metadata": {
    "id": "pKB_9fxJFV-5"
   },
   "source": [
    "## Part 1: Defining the Problem and Choosing a Dataset \n",
    "Things to do in this part:\n",
    "1. Answer questions 1-5\n",
    "2. Identify data sources to use in your dataset\n",
    "3. List data sources used in question 5"
   ]
  },
  {
   "cell_type": "markdown",
   "metadata": {
    "id": "v-H02HwkFV-6"
   },
   "source": [
    "Your first task is to choose a problem you're interested in. You are free to choose from any domain, but it should be within the **supervised learning** paradigm. In other words, a supervised classifier should be able to generalize from a training sample of $(X,y)$ pairs to predict outcomes on unseen data $x$. We want to use machine learning, so your problem should be difficult to solve using traditional programming algorithms. \n",
    "\n",
    "For simplicity, you will construct data for a binary or multiclass classification problem, where the possible labels are given by a fixed set of choices, or for a regression task (real-valued labels). Do not build a dataset for a structured prediction task.\n"
   ]
  },
  {
   "cell_type": "markdown",
   "metadata": {
    "id": "LgcLquEUFV-7"
   },
   "source": [
    "#### 1) In one or two sentences, what are you interested in predicting given what data? This is your supervised learning problem. \n",
    "\n",
    "You should answer this question before creating your dataset, as it will provide an indication of what to search for."
   ]
  },
  {
   "cell_type": "markdown",
   "metadata": {
    "id": "SBUkGwoQFV-7"
   },
   "source": [
    "\n",
    "<font color='blue'>\n",
    "    We hope to understand if there are any standard team statistics (points, rebounds, field goal %, etc.) that may help dictate whether an NBA team wins a basketball game.\n",
    "</font>\n",
    "\n"
   ]
  },
  {
   "cell_type": "markdown",
   "metadata": {
    "id": "uM4QYQHuFV-8"
   },
   "source": [
    "#### 2) Is this a well-defined problem? Why or why not? What ambiguities (if any) exist in your problem? \n",
    "\n",
    "Think about what challenges you solved by formulating the problem in this way."
   ]
  },
  {
   "cell_type": "markdown",
   "metadata": {
    "id": "bVz7YeaIFV-9"
   },
   "source": [
    "<font color='blue'>\n",
    "    This is a well defined problem. The dataset is complete, and there are no ambiguities about who won/lost a game.\n",
    "</font>\n",
    "\n"
   ]
  },
  {
   "cell_type": "markdown",
   "metadata": {
    "id": "9jT9VG9nFV-9"
   },
   "source": [
    "#### 3) Does an easy (non-ML) solution exist for the problem? What are existing ways this problem, or a similar problem, is addressed (regardless of difficulty)? "
   ]
  },
  {
   "cell_type": "markdown",
   "metadata": {
    "id": "hQEu9DtuFV--"
   },
   "source": [
    "<font color='blue'>\n",
    "    Aggregate parameters have been established to help gauge the efficiency/performance of a team beyond the base line statistics reported on a score sheet. This level of analysis is performed on a single player level, and even from play-by-play analysis of an individual game.\n",
    "</font>\n",
    "\n"
   ]
  },
  {
   "cell_type": "markdown",
   "metadata": {
    "id": "pzvM5R8eO6G0"
   },
   "source": [
    "#### 4) Why is using machine learning for this problem justified? "
   ]
  },
  {
   "cell_type": "markdown",
   "metadata": {
    "id": "DO7DUW_-PCVw"
   },
   "source": [
    "<font color='blue'>\n",
    "    There are many potential parameters that may contribute positively or negatively towards improving team wins. In this datset, there are already 35 different features considered. Applying machine learning helps to understand the weight of each parameter of team success, which may guide team formation in the future.\n",
    "</font>\n",
    "\n"
   ]
  },
  {
   "cell_type": "markdown",
   "metadata": {
    "id": "3i70yHkXFV-_"
   },
   "source": [
    "Now, we'll turn to data we can use to actually solve your problem. You may wish to use Section 3.1 of the assignment sheet for inspiration. **Remember, you are expected to *create* a dataset, not use an existing one**.\n",
    "\n",
    "#### 5) List the source of data you used (if more than one) when creating your dataset along with (very briefly) what you obtained from it.\n",
    "\n",
    "For example: <br /> Obtained features a,b,c from http://www.domain1.com/example_data. <br /> Obtained labels from http://www.domain2.com/example_labels.\n"
   ]
  },
  {
   "cell_type": "markdown",
   "metadata": {
    "id": "kWYNsEn3FV_A"
   },
   "source": [
    "<font color='blue'>\n",
    "    Obtained all features, labels from https://www.kaggle.com/ionaskel/nba-games-stats-from-2014-to-2018\n",
    "</font>\n",
    "\n"
   ]
  },
  {
   "cell_type": "markdown",
   "metadata": {
    "id": "xudIDiZ0FV_A"
   },
   "source": [
    "## Part 2: What does the data look like?\n",
    "Things to do in this part:\n",
    "1. Answer questions 6-11\n",
    "2. Print a few examples of raw data (if possible) otherwise explain what the raw data looks like.\n",
    "3. Create at least 3 numerical features from your raw data\n",
    "4. Create dataset such that $X\\in\\mathbb{R}^{m\\times n}$ and $y\\in\\mathbb{R}^m$ are both numpy arrays\n",
    "5. Create 1 visual that helps you understand your data."
   ]
  },
  {
   "cell_type": "markdown",
   "metadata": {
    "id": "-upcCn1VFV_B"
   },
   "source": [
    "Let's take a look at the various data you've collected. First let's read in the raw data. You may read the data into whatever is most convenient (e.g. a list, a numpy array, a Pandas dataframe, etc.). **At this point your data will be in whatever format you downloaded them in**. For example, if you're working with text data, your data might be strings of words or collection of text documents. If you are working with image data, you might have a collection of images.\n",
    "<br /><br />\n",
    "For those of you new to working with data in Python, we have included examples of how to import the raw data. These are merely suggestions if they work for you. You don't have to use them."
   ]
  },
  {
   "cell_type": "code",
   "execution_count": null,
   "metadata": {
    "colab": {
     "base_uri": "https://localhost:8080/"
    },
    "id": "9pEIfZp95gVx",
    "outputId": "a0e7f8b0-1bef-40e3-db52-799f6b173ae7"
   },
   "outputs": [
    {
     "name": "stdout",
     "output_type": "stream",
     "text": [
      "Mounted at /content/drive\n"
     ]
    }
   ],
   "source": [
    "from google.colab import drive\n",
    "drive.mount('/content/drive')"
   ]
  },
  {
   "cell_type": "code",
   "execution_count": null,
   "metadata": {
    "colab": {
     "base_uri": "https://localhost:8080/"
    },
    "id": "JoUhpBYFFV_B",
    "outputId": "9a3841c6-ea89-474e-e5c3-48bd862c0a96"
   },
   "outputs": [
    {
     "data": {
      "text/plain": [
       "(   Unnamed: 0 Team  Game  ... Opp.Blocks Opp.Turnovers Opp.TotalFouls\n",
       " 0           1  ATL     1  ...          9             9             22\n",
       " 1           2  ATL     2  ...          5            18             26\n",
       " 2           3  ATL     3  ...          9            19             15\n",
       " 3           4  ATL     4  ...          7            19             30\n",
       " 4           5  ATL     5  ...          6            15             29\n",
       " \n",
       " [5 rows x 41 columns], 0    L\n",
       " 1    W\n",
       " 2    L\n",
       " 3    L\n",
       " 4    W\n",
       " Name: WINorLOSS, dtype: object)"
      ]
     },
     "execution_count": 2,
     "metadata": {},
     "output_type": "execute_result"
    }
   ],
   "source": [
    "# # Suppose you have a directory called documents that contains Wikipedia articles, you can process these as follows:\n",
    "# # Cleaning the data (e.g. removing stop words) is not required.\n",
    "# import os\n",
    "# from collections import defaultdict\n",
    "\n",
    "# files = [f for f in os.listdir('documents') if os.path.isfile(os.path.join('documents', f))\n",
    "# X = defaultdict(list)\n",
    "# for i, file in enumerate(files[:len(files)], start=1):\n",
    "#     with open(os.path.join('documents', file)) as f:\n",
    "#         X['doc_' + str(i)] = f.readlines()\n",
    "# # X is a dictionary that maps doc_id to text.\n",
    "\n",
    "# # Suppose you have labels that are stored in a CSV file:\n",
    "# import pandas as pd\n",
    "\n",
    "# y = pd.read_csv('labels.csv')\n",
    "# # y is a Pandas dataframe that contains each label.\n",
    "\n",
    "# # Suppose you have a directory called images that contains pictures of cats, you can process them as follows:\n",
    "# from PIL import Image\n",
    "\n",
    "# images = [f for f in os.listdir('images') if os.path.isfile(os.path.join('images', f))\n",
    "# X = [Image.open(image) for image in images]\n",
    "# # X is a list of PIL Image objects\n",
    "\n",
    "#######################################################\n",
    "# TODO: Read in your raw data\n",
    "\n",
    "import pandas as pd\n",
    "\n",
    "data = pd.read_csv('/content/drive/MyDrive/Colab Notebooks/CS675/nba.games.stats.csv')\n",
    "\n",
    "\n",
    "X = data.drop(['WINorLOSS'],axis=1,inplace=False)\n",
    "y = data.loc[:,'WINorLOSS']\n",
    "\n",
    "#######################################################\n",
    "data.head(), y.head()"
   ]
  },
  {
   "cell_type": "markdown",
   "metadata": {
    "id": "OTyyXMhtFV_F"
   },
   "source": [
    "Now, let's print a few examples. Depending on your data format, you may have to write this yourself. We have provided some examples below. "
   ]
  },
  {
   "cell_type": "code",
   "execution_count": null,
   "metadata": {
    "colab": {
     "base_uri": "https://localhost:8080/"
    },
    "id": "EygmSPFnFV_F",
    "outputId": "20a130e5-bd36-41ad-a8a0-97ae4da7b3c5"
   },
   "outputs": [
    {
     "name": "stdout",
     "output_type": "stream",
     "text": [
      "X:     Unnamed: 0 Team  Game  ... Opp.Blocks Opp.Turnovers Opp.TotalFouls\n",
      "0           1  ATL     1  ...          9             9             22\n",
      "1           2  ATL     2  ...          5            18             26\n",
      "2           3  ATL     3  ...          9            19             15\n",
      "3           4  ATL     4  ...          7            19             30\n",
      "4           5  ATL     5  ...          6            15             29\n",
      "\n",
      "[5 rows x 40 columns]\n",
      "y:  0    L\n",
      "1    W\n",
      "2    L\n",
      "3    L\n",
      "4    W\n",
      "Name: WINorLOSS, dtype: object\n"
     ]
    }
   ],
   "source": [
    "# # If your data is stored in an array:\n",
    "# print('X:', X[:5])\n",
    "# print('y:', y[:5])\n",
    "\n",
    "# # If your data consists of image files:\n",
    "# from PIL import Image\n",
    "\n",
    "# for i in range(5):\n",
    "#     print('image:')\n",
    "#     img = X[i]\n",
    "#     img.show()\n",
    "#     print('label:', y[i])\n",
    "\n",
    "#######################################################\n",
    "# TODO: print out what a few examples of your raw data.\n",
    "\n",
    "print('X: ', X[:5])\n",
    "print('y: ', y[:5])\n",
    "\n",
    "#######################################################"
   ]
  },
  {
   "cell_type": "markdown",
   "metadata": {
    "id": "_O9OGkeHOW0V"
   },
   "source": [
    "#### (Optional) If your raw data format can't be displayed in a Jupyter notebook (e.g. video or audio files), you may skip the above step. You should still look at the raw data in whatever way possibly, but instead just describe what the raw data is that you look at."
   ]
  },
  {
   "cell_type": "markdown",
   "metadata": {
    "id": "WeRwNo2-O3XQ"
   },
   "source": [
    "<font color='blue'>\n",
    "    TODO: replace this cell with your answer. Leave blank if not applicable.\n",
    "</font>"
   ]
  },
  {
   "cell_type": "markdown",
   "metadata": {
    "id": "6LrYreKhFV_I"
   },
   "source": [
    "#### 6) What information is contained in each example (row) in $X$? These are your raw data features."
   ]
  },
  {
   "cell_type": "markdown",
   "metadata": {
    "id": "Q9_MNK-1FV_I"
   },
   "source": [
    "<font color='blue'>\n",
    "    There is a glut of team statistics available from each game. This includes: 'Team', 'Game', 'Date', 'Home', 'Opponent', 'WINorLOSS',\n",
    "       'TeamPoints', 'OpponentPoints', 'FieldGoals', 'FieldGoalsAttempted',\n",
    "       'FieldGoals.', 'X3PointShots', 'X3PointShotsAttempted', 'X3PointShots.',\n",
    "       'FreeThrows', 'FreeThrowsAttempted', 'FreeThrows.', 'OffRebounds',\n",
    "       'TotalRebounds', 'Assists', 'Steals', 'Blocks', 'Turnovers',\n",
    "       'TotalFouls', 'Opp.FieldGoals', 'Opp.FieldGoalsAttempted',\n",
    "       'Opp.FieldGoals.', 'Opp.3PointShots', 'Opp.3PointShotsAttempted',\n",
    "       'Opp.3PointShots.', 'Opp.FreeThrows', 'Opp.FreeThrowsAttempted',\n",
    "       'Opp.FreeThrows.', 'Opp.OffRebounds', 'Opp.TotalRebounds',\n",
    "       'Opp.Assists', 'Opp.Steals', 'Opp.Blocks', 'Opp.Turnovers',\n",
    "       'Opp.TotalFouls'\n",
    "</font>\n",
    "\n"
   ]
  },
  {
   "cell_type": "markdown",
   "metadata": {
    "id": "nnloVU9iFV_J"
   },
   "source": [
    "If your data is not numerical, this will be difficult for an algorithm to learn directly. So, now that you've seen what the raw data looks like, if you have non-numerical features, you would need to extract *numerical* features from the raw data.\n",
    "<br /><br />\n",
    "We can obtain numeric features through a process called **feature engineering**. Features may be derived from the existing raw data or may come from other data sources that can be associated with each example. This is a challenging task that often requires domain knowledge about the problem you are trying to solve. \n",
    "<br /><br />\n",
    "While very important in dataset creation, feature engineering is not the focus of this assignment. You can choose to exclude the non-numeric features from your dataset or you can try feature engineering or you may choose work with a simpler dataset. One example of feature engineering is provided below. \n",
    "<br /><br />"
   ]
  },
  {
   "cell_type": "code",
   "execution_count": null,
   "metadata": {
    "colab": {
     "base_uri": "https://localhost:8080/",
     "height": 326
    },
    "id": "Qf0HOYw8FV_K",
    "outputId": "1b5b0e49-e335-478e-e90e-b47b0828cbd0"
   },
   "outputs": [
    {
     "data": {
      "text/html": [
       "<div>\n",
       "<style scoped>\n",
       "    .dataframe tbody tr th:only-of-type {\n",
       "        vertical-align: middle;\n",
       "    }\n",
       "\n",
       "    .dataframe tbody tr th {\n",
       "        vertical-align: top;\n",
       "    }\n",
       "\n",
       "    .dataframe thead th {\n",
       "        text-align: right;\n",
       "    }\n",
       "</style>\n",
       "<table border=\"1\" class=\"dataframe\">\n",
       "  <thead>\n",
       "    <tr style=\"text-align: right;\">\n",
       "      <th></th>\n",
       "      <th>Unnamed: 0</th>\n",
       "      <th>Team</th>\n",
       "      <th>Game</th>\n",
       "      <th>Date</th>\n",
       "      <th>Home</th>\n",
       "      <th>Opponent</th>\n",
       "      <th>TeamPoints</th>\n",
       "      <th>OpponentPoints</th>\n",
       "      <th>FieldGoals</th>\n",
       "      <th>FieldGoalsAttempted</th>\n",
       "      <th>FieldGoalsPerc</th>\n",
       "      <th>X3PointShots</th>\n",
       "      <th>X3PointShotsAttempted</th>\n",
       "      <th>X3PointShotsPerc</th>\n",
       "      <th>FreeThrows</th>\n",
       "      <th>FreeThrowsAttempted</th>\n",
       "      <th>FreeThrowsPerc</th>\n",
       "      <th>OffRebounds</th>\n",
       "      <th>TotalRebounds</th>\n",
       "      <th>Assists</th>\n",
       "      <th>Steals</th>\n",
       "      <th>Blocks</th>\n",
       "      <th>Turnovers</th>\n",
       "      <th>TotalFouls</th>\n",
       "      <th>Opp.FieldGoals</th>\n",
       "      <th>Opp.FieldGoalsAttempted</th>\n",
       "      <th>Opp.FieldGoalsPerc</th>\n",
       "      <th>Opp.3PointShots</th>\n",
       "      <th>Opp.3PointShotsAttempted</th>\n",
       "      <th>Opp.3PointShots.</th>\n",
       "      <th>Opp.FreeThrows</th>\n",
       "      <th>Opp.FreeThrowsAttempted</th>\n",
       "      <th>Opp.FreeThrowsPerc</th>\n",
       "      <th>Opp.OffRebounds</th>\n",
       "      <th>Opp.TotalRebounds</th>\n",
       "      <th>Opp.Assists</th>\n",
       "      <th>Opp.Steals</th>\n",
       "      <th>Opp.Blocks</th>\n",
       "      <th>Opp.Turnovers</th>\n",
       "      <th>Opp.TotalFouls</th>\n",
       "      <th>WINorLOSS</th>\n",
       "    </tr>\n",
       "  </thead>\n",
       "  <tbody>\n",
       "    <tr>\n",
       "      <th>0</th>\n",
       "      <td>1</td>\n",
       "      <td>ATL</td>\n",
       "      <td>1</td>\n",
       "      <td>2014-10-29</td>\n",
       "      <td>0</td>\n",
       "      <td>TOR</td>\n",
       "      <td>102</td>\n",
       "      <td>109</td>\n",
       "      <td>40</td>\n",
       "      <td>80</td>\n",
       "      <td>0.500</td>\n",
       "      <td>13</td>\n",
       "      <td>22</td>\n",
       "      <td>0.591</td>\n",
       "      <td>9</td>\n",
       "      <td>17</td>\n",
       "      <td>0.529</td>\n",
       "      <td>10</td>\n",
       "      <td>42</td>\n",
       "      <td>26</td>\n",
       "      <td>6</td>\n",
       "      <td>8</td>\n",
       "      <td>17</td>\n",
       "      <td>24</td>\n",
       "      <td>37</td>\n",
       "      <td>90</td>\n",
       "      <td>0.411</td>\n",
       "      <td>8</td>\n",
       "      <td>26</td>\n",
       "      <td>0.308</td>\n",
       "      <td>27</td>\n",
       "      <td>33</td>\n",
       "      <td>0.818</td>\n",
       "      <td>16</td>\n",
       "      <td>48</td>\n",
       "      <td>26</td>\n",
       "      <td>13</td>\n",
       "      <td>9</td>\n",
       "      <td>9</td>\n",
       "      <td>22</td>\n",
       "      <td>0</td>\n",
       "    </tr>\n",
       "    <tr>\n",
       "      <th>1</th>\n",
       "      <td>2</td>\n",
       "      <td>ATL</td>\n",
       "      <td>2</td>\n",
       "      <td>2014-11-01</td>\n",
       "      <td>1</td>\n",
       "      <td>IND</td>\n",
       "      <td>102</td>\n",
       "      <td>92</td>\n",
       "      <td>35</td>\n",
       "      <td>69</td>\n",
       "      <td>0.507</td>\n",
       "      <td>7</td>\n",
       "      <td>20</td>\n",
       "      <td>0.350</td>\n",
       "      <td>25</td>\n",
       "      <td>33</td>\n",
       "      <td>0.758</td>\n",
       "      <td>3</td>\n",
       "      <td>37</td>\n",
       "      <td>26</td>\n",
       "      <td>10</td>\n",
       "      <td>6</td>\n",
       "      <td>12</td>\n",
       "      <td>20</td>\n",
       "      <td>31</td>\n",
       "      <td>81</td>\n",
       "      <td>0.383</td>\n",
       "      <td>12</td>\n",
       "      <td>32</td>\n",
       "      <td>0.375</td>\n",
       "      <td>18</td>\n",
       "      <td>21</td>\n",
       "      <td>0.857</td>\n",
       "      <td>11</td>\n",
       "      <td>44</td>\n",
       "      <td>25</td>\n",
       "      <td>5</td>\n",
       "      <td>5</td>\n",
       "      <td>18</td>\n",
       "      <td>26</td>\n",
       "      <td>1</td>\n",
       "    </tr>\n",
       "    <tr>\n",
       "      <th>2</th>\n",
       "      <td>3</td>\n",
       "      <td>ATL</td>\n",
       "      <td>3</td>\n",
       "      <td>2014-11-05</td>\n",
       "      <td>0</td>\n",
       "      <td>SAS</td>\n",
       "      <td>92</td>\n",
       "      <td>94</td>\n",
       "      <td>38</td>\n",
       "      <td>92</td>\n",
       "      <td>0.413</td>\n",
       "      <td>8</td>\n",
       "      <td>25</td>\n",
       "      <td>0.320</td>\n",
       "      <td>8</td>\n",
       "      <td>11</td>\n",
       "      <td>0.727</td>\n",
       "      <td>10</td>\n",
       "      <td>37</td>\n",
       "      <td>26</td>\n",
       "      <td>14</td>\n",
       "      <td>5</td>\n",
       "      <td>13</td>\n",
       "      <td>25</td>\n",
       "      <td>31</td>\n",
       "      <td>69</td>\n",
       "      <td>0.449</td>\n",
       "      <td>5</td>\n",
       "      <td>17</td>\n",
       "      <td>0.294</td>\n",
       "      <td>27</td>\n",
       "      <td>38</td>\n",
       "      <td>0.711</td>\n",
       "      <td>11</td>\n",
       "      <td>50</td>\n",
       "      <td>25</td>\n",
       "      <td>7</td>\n",
       "      <td>9</td>\n",
       "      <td>19</td>\n",
       "      <td>15</td>\n",
       "      <td>0</td>\n",
       "    </tr>\n",
       "    <tr>\n",
       "      <th>3</th>\n",
       "      <td>4</td>\n",
       "      <td>ATL</td>\n",
       "      <td>4</td>\n",
       "      <td>2014-11-07</td>\n",
       "      <td>0</td>\n",
       "      <td>CHO</td>\n",
       "      <td>119</td>\n",
       "      <td>122</td>\n",
       "      <td>43</td>\n",
       "      <td>93</td>\n",
       "      <td>0.462</td>\n",
       "      <td>13</td>\n",
       "      <td>33</td>\n",
       "      <td>0.394</td>\n",
       "      <td>20</td>\n",
       "      <td>26</td>\n",
       "      <td>0.769</td>\n",
       "      <td>7</td>\n",
       "      <td>38</td>\n",
       "      <td>28</td>\n",
       "      <td>8</td>\n",
       "      <td>3</td>\n",
       "      <td>19</td>\n",
       "      <td>33</td>\n",
       "      <td>48</td>\n",
       "      <td>97</td>\n",
       "      <td>0.495</td>\n",
       "      <td>6</td>\n",
       "      <td>21</td>\n",
       "      <td>0.286</td>\n",
       "      <td>20</td>\n",
       "      <td>27</td>\n",
       "      <td>0.741</td>\n",
       "      <td>11</td>\n",
       "      <td>51</td>\n",
       "      <td>31</td>\n",
       "      <td>6</td>\n",
       "      <td>7</td>\n",
       "      <td>19</td>\n",
       "      <td>30</td>\n",
       "      <td>0</td>\n",
       "    </tr>\n",
       "    <tr>\n",
       "      <th>4</th>\n",
       "      <td>5</td>\n",
       "      <td>ATL</td>\n",
       "      <td>5</td>\n",
       "      <td>2014-11-08</td>\n",
       "      <td>1</td>\n",
       "      <td>NYK</td>\n",
       "      <td>103</td>\n",
       "      <td>96</td>\n",
       "      <td>33</td>\n",
       "      <td>81</td>\n",
       "      <td>0.407</td>\n",
       "      <td>9</td>\n",
       "      <td>22</td>\n",
       "      <td>0.409</td>\n",
       "      <td>28</td>\n",
       "      <td>36</td>\n",
       "      <td>0.778</td>\n",
       "      <td>12</td>\n",
       "      <td>41</td>\n",
       "      <td>18</td>\n",
       "      <td>10</td>\n",
       "      <td>5</td>\n",
       "      <td>8</td>\n",
       "      <td>17</td>\n",
       "      <td>40</td>\n",
       "      <td>84</td>\n",
       "      <td>0.476</td>\n",
       "      <td>8</td>\n",
       "      <td>21</td>\n",
       "      <td>0.381</td>\n",
       "      <td>8</td>\n",
       "      <td>11</td>\n",
       "      <td>0.727</td>\n",
       "      <td>13</td>\n",
       "      <td>44</td>\n",
       "      <td>26</td>\n",
       "      <td>2</td>\n",
       "      <td>6</td>\n",
       "      <td>15</td>\n",
       "      <td>29</td>\n",
       "      <td>1</td>\n",
       "    </tr>\n",
       "  </tbody>\n",
       "</table>\n",
       "</div>"
      ],
      "text/plain": [
       "   Unnamed: 0 Team  Game  ... Opp.Turnovers  Opp.TotalFouls WINorLOSS\n",
       "0           1  ATL     1  ...             9              22         0\n",
       "1           2  ATL     2  ...            18              26         1\n",
       "2           3  ATL     3  ...            19              15         0\n",
       "3           4  ATL     4  ...            19              30         0\n",
       "4           5  ATL     5  ...            15              29         1\n",
       "\n",
       "[5 rows x 41 columns]"
      ]
     },
     "execution_count": 4,
     "metadata": {},
     "output_type": "execute_result"
    }
   ],
   "source": [
    "# # If you're using text data stored in a dictionary (like example above):\n",
    "# # Suppose each document is a string that contains a period\n",
    "# # and are trying to predict end of sentences (EOS),\n",
    "# import re\n",
    "# import pandas as pd\n",
    "# from collections import defaultdict\n",
    "\n",
    "# # Convert X from doc_id -> text to doc_id -> {sentence, features}\n",
    "# X = {k:{'sentence': v, 'features': None} for k,v in X.items()}\n",
    "\n",
    "# # suppose you downloaded these external data: common abbreviations, titles (e.g. mr, ms, dr), month abbreviations (e.g. sept, oct)\n",
    "# abbrevs = pd.read_csv('common_abbrevs.csv')\n",
    "# titles = pd.read_csv('titles.csv')\n",
    "# months = pd.read_csv('month_abbrevs.csv')\n",
    "\n",
    "# # for the purpose of this example, assume all documents have len > 3\n",
    "# features = defaultdict(int)\n",
    "# for doc_id, doc in X.items():\n",
    "#     idx = re.find('.')\n",
    "#     one_before = doc['sentence'][idx - 1] if idx > 0 else None\n",
    "#     one_after = doc['sentence'][idx + 1] if idx < len(doc['sentence']) - 1 else None\n",
    "#     features['is_abbrev'] = 1 if one_before and one_before in abbrevs else 0\n",
    "#     features['is_title'] = 1 if one_before and one_before in titles else 0\n",
    "#     features['is_month'] = 1 if one_before and one_before in months else 0\n",
    "#     features['is_decimal'] = 1 if one_before and one_after in one_before.isdigit() and one_after.isdigit() else 0\n",
    "#     features['other_punc'] = 1 if any((p in '?!.') for c in doc['sentence'][idx:]) else 0\n",
    "#     features['period_loc'] = idx\n",
    "#     X[doc_id]['features'] = features\n",
    "# # In just a few lines of Python, we created 6 features!\n",
    "\n",
    "HomeAway = {\"Home\":1, 'Away':0}\n",
    "X['Home'].replace(HomeAway,inplace=True)\n",
    "\n",
    "WinLoss = {'L': 0, 'W': 1}\n",
    "y.replace(WinLoss, inplace=True)\n",
    "\n",
    "PercRename = {'FieldGoals.':'FieldGoalsPerc','X3PointShots.':'X3PointShotsPerc','FreeThrows.':'FreeThrowsPerc',\n",
    "              'Opp.FieldGoals.':'Opp.FieldGoalsPerc','Opp.X3PointShots.':'Opp.X3PointShotsPerc','Opp.FreeThrows.':\n",
    "              'Opp.FreeThrowsPerc'}\n",
    "X.rename(columns=PercRename,inplace=True)\n",
    "pd.concat([X, y], axis=1).head()"
   ]
  },
  {
   "cell_type": "markdown",
   "metadata": {
    "id": "TpHvVRWLFV_N"
   },
   "source": [
    "Next, let's focus on what you're trying to predict. First, let's see what the potential outcomes look like. "
   ]
  },
  {
   "cell_type": "code",
   "execution_count": null,
   "metadata": {
    "colab": {
     "base_uri": "https://localhost:8080/"
    },
    "id": "_sffSMwfFV_N",
    "outputId": "08645b95-6fca-4747-b205-1cf0729cc5a1"
   },
   "outputs": [
    {
     "data": {
      "text/plain": [
       "array([0, 1])"
      ]
     },
     "execution_count": 5,
     "metadata": {},
     "output_type": "execute_result"
    }
   ],
   "source": [
    "import numpy as np\n",
    "\n",
    "np.unique(y)"
   ]
  },
  {
   "cell_type": "markdown",
   "metadata": {
    "id": "B4K9ymaUFV_Q"
   },
   "source": [
    "#### 7) Is your dataset suitable for a regression or classification task? Explain."
   ]
  },
  {
   "cell_type": "markdown",
   "metadata": {
    "id": "LGM97EwNFV_R"
   },
   "source": [
    "<font color='blue'>\n",
    "    This dataset is suitable for a classification. There are only two potential options for an outcome of the game for a team. Either the listed team wins or loses the game.\n",
    "</font>\n",
    "\n"
   ]
  },
  {
   "cell_type": "markdown",
   "metadata": {
    "id": "ZftGGzDOFV_R"
   },
   "source": [
    "Now, we'll standardize our data as follows. The data matrix $X$ should be a numpy 2d array in $\\mathbb{R}^{m\\times n}$. The labels should be a numpy 1d array in $\\mathbb{R}^m$. $m$ is the number of examples and $n$ is the number of features. **You will be training your supervised classifer on the features, which may not include all (or any) of the raw data**. This is a decision you will make when creating your dataset.\n",
    "<br /><br />\n",
    "Note: this is the format we're looking for your data to be in when you submit your dataset (i.e. $X\\in\\mathbb{R}^{m\\times n}$ and $y\\in\\mathbb{R}^m$ and are both numpy arrays)."
   ]
  },
  {
   "cell_type": "code",
   "execution_count": null,
   "metadata": {
    "id": "wr0fOeO4FV_S"
   },
   "outputs": [],
   "source": [
    "# # Now, using your numerical features from the previous step, you can construct the dataset.\n",
    "# # Depending on what your raw data was (i.e. if any field was numerical), you may include this in the final dataset\n",
    "# # or you may just use the features you created. \n",
    "\n",
    "# # Using the dictionary from above (doc_id -> {sentence, features}) the dataset can be constructed\n",
    "# import numpy as np\n",
    "\n",
    "# X = np.array([np.array(doc.features.values()) for doc in X.values()])\n",
    "# y = np.array(y) # assume y was a list of binary labels previously\n",
    "\n",
    "#######################################################\n",
    "# TODO: Convert X and y to numpy arrays with appropriate dimensions\n",
    "import numpy as np\n",
    "x_edit = X.drop(['Unnamed: 0','Team','Game','Date','Opponent'],axis=1,inplace=False)\n",
    "x_col = x_edit.columns\n",
    "X = np.array(x_edit)\n",
    "y = np.array(y)\n",
    "#######################################################"
   ]
  },
  {
   "cell_type": "markdown",
   "metadata": {
    "id": "otLeZuuXFV_V"
   },
   "source": [
    "If you have a classification dataset, let's look at class balance. This tells us how many examples we have for each label."
   ]
  },
  {
   "cell_type": "code",
   "execution_count": null,
   "metadata": {
    "colab": {
     "base_uri": "https://localhost:8080/"
    },
    "id": "mpg27X_XFV_V",
    "outputId": "96b8b8aa-8cb6-4c37-e089-3d5a2afe0b1e"
   },
   "outputs": [
    {
     "name": "stdout",
     "output_type": "stream",
     "text": [
      "4920 examples of class 0\n",
      "4920 examples of class 1\n"
     ]
    }
   ],
   "source": [
    "for i in np.unique(y):\n",
    "    print(f'{len(y[y==i])} examples of class {i}')"
   ]
  },
  {
   "cell_type": "markdown",
   "metadata": {
    "id": "o_ecYJ4xFV_Y"
   },
   "source": [
    "#### 8) Classification: Is your dataset balanced or imbalanced?\n",
    "\n",
    "\n",
    "Regression: How are your labels distributed? Normal distrbution? Uniform within a range? etc. "
   ]
  },
  {
   "cell_type": "markdown",
   "metadata": {
    "id": "Gin5wkqFFV_Y"
   },
   "source": [
    "<font color='blue'>\n",
    "    The labels are distributed perfectly evenly. This makes sense because for a given game, there is always one winner and one loser.\n",
    "</font>\n",
    "\n"
   ]
  },
  {
   "cell_type": "markdown",
   "metadata": {
    "id": "NeSyM-x6FV_Z"
   },
   "source": [
    "Let's compute some statistics for the dataset."
   ]
  },
  {
   "cell_type": "code",
   "execution_count": null,
   "metadata": {
    "colab": {
     "base_uri": "https://localhost:8080/"
    },
    "id": "0B5593CnFV_a",
    "outputId": "2614ff48-f0ec-4ef2-a273-670a36f937a5"
   },
   "outputs": [
    {
     "name": "stdout",
     "output_type": "stream",
     "text": [
      "Number of examples: 9840\n",
      "Number of features per example: 35\n"
     ]
    }
   ],
   "source": [
    "#######################################################\n",
    "print(f'Number of examples: {X.shape[0]}')\n",
    "print(f'Number of features per example: {X.shape[1]}')\n",
    "# there are many more that are relevant to the specific domain your data is in.\n",
    "# TODO: if applicable, please include any additional dataset statistics here\n",
    "#######################################################"
   ]
  },
  {
   "cell_type": "markdown",
   "metadata": {
    "id": "NXUdUevoORfr"
   },
   "source": [
    "#### 9) Do you have lot's of high quality data? Explain any limitations (if any) that exist in terms of data quantity and quality."
   ]
  },
  {
   "cell_type": "markdown",
   "metadata": {
    "id": "WmQGjl9JOiOk"
   },
   "source": [
    "<font color='blue'>\n",
    "    There is a lot of high quality data in this dataset. Each game is accounted for in this dataset and each statistic is well documented, so there are no holes in quality/quantity. Each team also plays an even number of games.\n",
    "</font>\n",
    "\n"
   ]
  },
  {
   "cell_type": "markdown",
   "metadata": {
    "id": "ZGdroDhAUoiU"
   },
   "source": [
    "Data visualizations help us understand our data and draw insights. Just like there is no single ML algorithm that applies to every problem, there isn't a visualization that works for every dataset.\n",
    "<br /> <br />\n",
    "Instead, you will produce some visuals that you think tell an interesting story about your data. We will provide some suggestions, which you can use for inspiration. \n",
    "<br /> <br />\n",
    "\n",
    "Types of information you may wish to capture (this is by no means comprehensive):\n",
    "*   Missingness of data (consider using heat maps, scatter plots)\n",
    "*   Correlation of features (consider using a correlation matrix)\n",
    "*   Distribution of data (consider using historgrams, violin plots)\n",
    "*   Linear separability, if you have binary classification\n",
    "<br /> <br />\n",
    "\n",
    "Check out these visualization galleries for further inspiration and example code:\n",
    "*   [Seaborn](https://seaborn.pydata.org/examples/index.html)\n",
    "*   [Plotly](https://plotly.com/python/)\n",
    "*   [Python Graph Gallery](https://python-graph-gallery.com/)\n",
    "\n",
    "You should create **at least 1 visualization** for your dataset and explain what you learned about your data from it. Below is an example heatmap showing correlation of features from the sklearn iris dataset."
   ]
  },
  {
   "cell_type": "code",
   "execution_count": null,
   "metadata": {
    "colab": {
     "base_uri": "https://localhost:8080/",
     "height": 347
    },
    "id": "OR77uBw_gI72",
    "outputId": "c59361b3-9800-41a9-f896-cc54db747c21"
   },
   "outputs": [
    {
     "data": {
      "image/png": "[encoded data removed]",
      "text/plain": [
       "<Figure size 432x288 with 2 Axes>"
      ]
     },
     "metadata": {
      "needs_background": "light"
     },
     "output_type": "display_data"
    }
   ],
   "source": [
    "from sklearn import datasets\n",
    "import numpy as np\n",
    "import seaborn as sns\n",
    "import matplotlib.pyplot as plt\n",
    "import pandas as pd\n",
    "\n",
    "iris = datasets.load_iris()\n",
    "df = pd.DataFrame(data= np.c_[iris['data'], iris['target']],\n",
    "                     columns= iris['feature_names'] + ['target'])\n",
    "sns.heatmap(df.corr(), \n",
    "            xticklabels=df.corr().columns.values,\n",
    "            yticklabels=df.corr().columns.values)\n",
    "plt.show()"
   ]
  },
  {
   "cell_type": "code",
   "execution_count": null,
   "metadata": {
    "colab": {
     "base_uri": "https://localhost:8080/",
     "height": 363
    },
    "id": "LSbCeDaDFV_h",
    "outputId": "ce9d26b8-530c-4fe5-ab9a-cf6a1d7b3128"
   },
   "outputs": [
    {
     "data": {
      "text/plain": [
       "<matplotlib.axes._subplots.AxesSubplot at 0x7fb2608b32d0>"
      ]
     },
     "execution_count": 10,
     "metadata": {},
     "output_type": "execute_result"
    },
    {
     "data": {
      "image/png": "[encoded data removed]",
      "text/plain": [
       "<Figure size 432x288 with 2 Axes>"
      ]
     },
     "metadata": {
      "needs_background": "light"
     },
     "output_type": "display_data"
    }
   ],
   "source": [
    "#######################################################\n",
    "# TODO: Visualize the dataset\n",
    "import seaborn as sns\n",
    "import matplotlib.pyplot as plt\n",
    "\n",
    "\n",
    "feat = x_edit.loc[:,['TeamPoints','OpponentPoints','X3PointShots','X3PointShotsPerc',\n",
    "                     'FieldGoals','FieldGoalsPerc','FreeThrows','FreeThrowsPerc','OffRebounds']]\n",
    "sns.heatmap(feat.corr(),xticklabels=feat.corr().columns.values,yticklabels=feat.corr().columns.values)\n",
    "\n",
    "\n",
    "#######################################################"
   ]
  },
  {
   "cell_type": "markdown",
   "metadata": {
    "id": "gb2f_TdIFV_j"
   },
   "source": [
    "#### 10) What insights do you gain from this visualization about your dataset?"
   ]
  },
  {
   "cell_type": "markdown",
   "metadata": {
    "id": "ma30TfvrFV_k"
   },
   "source": [
    "<font color='blue'>\n",
    "    As expected, the total number and percentage of shots and 3 point shots relates to the total number of points scored. However, the number of points scored by the opponent does not seem like a strong motivating factor for scoring more points. Similarly, free throw counts and percentages doesn't seem to be closely correlated to team points scored. Also, offensive rebounds, which indicates a team getting a rebound off of their own shot (potentially for another shot), has little bearing on team points.\n",
    "</font>\n",
    "\n"
   ]
  },
  {
   "cell_type": "markdown",
   "metadata": {
    "id": "fPIbEyVOPWsy"
   },
   "source": [
    "#### 11) In your dataset, what discussions would you have about the ethical implications of what you were collecting? Are there any potential issues with fairness? "
   ]
  },
  {
   "cell_type": "markdown",
   "metadata": {
    "id": "Gc-5zTUHPyyg"
   },
   "source": [
    "<font color='blue'>\n",
    "    There aren't any severe ethical implications of collecting and analyzing data from basketball games. Potentially, any executive decisions made by team managers about player status may affect player job opportunities. Additionally, there may be different considerations with specific teams that are not acknowledged in the data that may positively or negatively affect the collected data from that team.\n",
    "</font>\n",
    "\n"
   ]
  },
  {
   "cell_type": "markdown",
   "metadata": {
    "id": "ByuJGGbJFV_k"
   },
   "source": [
    "## Part 3: Using your dataset\n",
    "\n",
    "Things to do in this part:\n",
    "1. Perform a train-validation-test split\n",
    "2. Train a simple supervised learning algorithm on dataset\n",
    "3. Hyper-parameter Tuning\n",
    "4. Evaluation\n",
    "5. Discussion"
   ]
  },
  {
   "cell_type": "markdown",
   "metadata": {
    "id": "abr91MAtFV_k"
   },
   "source": [
    "Now that you have created your dataset and explored some of its properties, you will use a supervised classifier to predict the outcome you definined in the problem statement. To evaluate how well this classifier predicts the outcomes, you will need to set some data aside for testing. First, you'll use sklearn to split the data into train and test sets, with 25% of the data reserved for testing."
   ]
  },
  {
   "cell_type": "code",
   "execution_count": null,
   "metadata": {
    "colab": {
     "base_uri": "https://localhost:8080/"
    },
    "id": "pvsUJRE7FV_l",
    "outputId": "94b4e8aa-e3be-46cb-9179-72c6576d0087"
   },
   "outputs": [
    {
     "name": "stdout",
     "output_type": "stream",
     "text": [
      "Training examples: 7380\n",
      "Testing examples :2460\n",
      "Training examples: 5904\n",
      "Validation examples: 1476\n"
     ]
    }
   ],
   "source": [
    "from sklearn.model_selection import train_test_split \n",
    "\n",
    "# Train Test Split\n",
    "X_train, X_test, y_train, y_test = train_test_split(X, y, test_size=0.25, random_state=0)\n",
    "print(f'Training examples: {X_train.shape[0]}\\nTesting examples :{X_test.shape[0]}')\n",
    "\n",
    "#######################################################\n",
    "# TODO: Split the training data into training and validation splits. \n",
    "# You can use approximately 20% of the training data as our validation data set.\n",
    " \n",
    "X_train, X_validation, y_train, y_validation = train_test_split(X_train, y_train, test_size=0.2, random_state=0)\n",
    "print(f\"Training examples: {X_train.shape[0]}\\nValidation examples: {X_validation.shape[0]}\")\n",
    "#######################################################"
   ]
  },
  {
   "cell_type": "markdown",
   "metadata": {
    "id": "0CAu1ruKa-9C"
   },
   "source": [
    "Now, we'll save your train and test sets. Together, these four files will make up the dataset you submit on Gradescope. "
   ]
  },
  {
   "cell_type": "code",
   "execution_count": null,
   "metadata": {
    "colab": {
     "base_uri": "https://localhost:8080/"
    },
    "id": "QANcYHlobNNb",
    "outputId": "65cb80f5-ce0a-4fa6-b77b-7ad4eca46d7e"
   },
   "outputs": [
    {
     "name": "stdout",
     "output_type": "stream",
     "text": [
      "  adding: X_train.csv (deflated 92%)\n",
      "  adding: X_test.csv (deflated 92%)\n",
      "  adding: y_train.csv (deflated 99%)\n",
      "  adding: y_test.csv (deflated 99%)\n"
     ]
    }
   ],
   "source": [
    "import numpy as np \n",
    "np.savetxt(\"X_train.csv\", X_train, delimiter=\",\")\n",
    "np.savetxt(\"X_validation.csv\", X_validation, delimiter=\",\")\n",
    "np.savetxt(\"X_test.csv\", X_test, delimiter=\",\")\n",
    "np.savetxt(\"y_train.csv\", y_train, delimiter=\",\")\n",
    "np.savetxt(\"y_validation.csv\", y_validation, delimiter=\",\")\n",
    "np.savetxt(\"y_test.csv\", y_test, delimiter=\",\")\n",
    "\n",
    "# zip together all components of your dataset\n",
    "!zip homework1_dataset.zip X_train.csv X_test.csv y_train.csv y_test.csv"
   ]
  },
  {
   "cell_type": "markdown",
   "metadata": {
    "id": "mwx3lhczzY91"
   },
   "source": [
    "### Classifier Training"
   ]
  },
  {
   "cell_type": "markdown",
   "metadata": {
    "id": "cS9ISdLyFV_o"
   },
   "source": [
    "Now, let's train a Decision Tree classifier. You can train a decision tree for both regression or classification problem.  You are encouraged to use any popular packages such as sklearn. Here is the link to the scikit-learn site: https://scikit-learn.org/stable/modules/tree.html"
   ]
  },
  {
   "cell_type": "code",
   "execution_count": null,
   "metadata": {
    "colab": {
     "base_uri": "https://localhost:8080/",
     "height": 503
    },
    "id": "uRlJ86C8FV_o",
    "outputId": "419aea9b-fb21-477a-d818-c63be3310701"
   },
   "outputs": [
    {
     "name": "stdout",
     "output_type": "stream",
     "text": [
      "[0 1]\n"
     ]
    },
    {
     "data": {
      "text/plain": [
       "{'ccp_alpha': 0.0,\n",
       " 'class_weight': None,\n",
       " 'criterion': 'gini',\n",
       " 'max_depth': None,\n",
       " 'max_features': None,\n",
       " 'max_leaf_nodes': None,\n",
       " 'min_impurity_decrease': 0.0,\n",
       " 'min_impurity_split': None,\n",
       " 'min_samples_leaf': 1,\n",
       " 'min_samples_split': 2,\n",
       " 'min_weight_fraction_leaf': 0.0,\n",
       " 'presort': 'deprecated',\n",
       " 'random_state': 0,\n",
       " 'splitter': 'best'}"
      ]
     },
     "execution_count": 13,
     "metadata": {},
     "output_type": "execute_result"
    },
    {
     "data": {
      "image/png": "[encoded data removed]",
      "text/plain": [
       "<Figure size 432x288 with 1 Axes>"
      ]
     },
     "metadata": {
      "needs_background": "light"
     },
     "output_type": "display_data"
    }
   ],
   "source": [
    "#######################################################\n",
    "# TODO: Train a decision tree on your dataset\n",
    "from sklearn import tree\n",
    "default_model = tree.DecisionTreeClassifier(random_state=0)\n",
    "default_model.fit(X_train, y_train)\n",
    "\n",
    "tree.plot_tree(default_model)\n",
    "print(np.unique(y_train))\n",
    "\n",
    "default_model.get_params()\n",
    "#######################################################"
   ]
  },
  {
   "cell_type": "markdown",
   "metadata": {
    "id": "yCnL5uSwMZhK"
   },
   "source": [
    "### Hyperparameter Tuning"
   ]
  },
  {
   "cell_type": "markdown",
   "metadata": {
    "id": "RDnD6__q7hFw"
   },
   "source": [
    "Background on hyperparameters:\n",
    "Most any ML method has 'hyper' or 'run' parameters that the user can tune/adjust, modifying how the algorithm functions. The process of tweaking and optimizing these parameters to improve ML performance is known as [hyperparameter optimization](https://en.wikipedia.org/wiki/Hyperparameter_optimization). A hyperparameter sweep mostly commonly includes identifying which algorithm parameters are known to, or are likely to, impact performance on a given dataset, and then varying the setting of these one or more paramters in separate runs of the algorithm.  This step is not only important for squeezing the maximum performance out of ML methods, but also in fairly compairing the performance of different ML methods on given datasets.  \n",
    "\n",
    "Out of necessity, almost all ML algorithms have default hyperparameters specified (related to [default arguments](https://en.wikipedia.org/wiki/Default_argument). First and foremost, default parameters are specified so that the algorithm is able to run even if the user forgets to specify these hyperparamters. They are often set with the intention of testing out the method on a 'toy' or demonstration dataset included with the software, or they are set as simple, accessible placeholders to ensure that the first time a user runs the software it runs smoothly and quickly. However, default parameters are certainly not guarenteed (if even likely) to lead to optimal ML performance on a given dataset. \n",
    "\n",
    "The most common and basic hyperparameter sweep strategies include a [grid search](https://medium.com/datadriveninvestor/an-introduction-to-grid-search-ff57adcc0998) or a [random search](https://en.wikipedia.org/wiki/Random_search), but other more sophisticated searches are also employed. \n",
    "\n",
    "Like with many other things in ML, there is no absolute right way to perform a hyperparameter sweep. One could easily waste a large amount of computational time on an exhaustive serach of hyperparameter settings and combinations without improving performance much, or at all. However, some degree of hyperparameter searching outside of using the default hyperparameter settings is considered essential to ML best practices. \n"
   ]
  },
  {
   "cell_type": "markdown",
   "metadata": {
    "id": "m28rJdZr0rxS"
   },
   "source": [
    "Now, let's train another classifier and tune its parameters to give it better performance. You are encouraged to try out a different algorithm than the one you used before and can use popular packages such as sklearn. We have provided some sample code on how grid search and random search can be used to tune parameters for Decision Trees below."
   ]
  },
  {
   "cell_type": "markdown",
   "metadata": {
    "id": "IQ7Ib12Y1xZZ"
   },
   "source": [
    "#### You are required to perform a grid search of at least two hyper-parameters of your model. Make sure that you have a way to identify the best hyperparameters for a given dataset and feature extraction method\n",
    "\n",
    "#### Decision Tree - Random Sweep of Major Hyperparameters\n",
    "Here you should consider some of the hyperparameters with the most potential to impact decision tree performance. \n",
    "\n",
    "* max_depth = The maximum depth of the tree. (default = None)\n",
    "* min_samples_split = The minimum number of samples required to split an internal node: (default = 2)\n",
    "* min_samples_leaf  = The minimum number of samples required to be at a leaf node. (default = 1)\n",
    "* criterion = The function to measure the quality of a split. (Default = 'gini')"
   ]
  },
  {
   "cell_type": "code",
   "execution_count": null,
   "metadata": {
    "colab": {
     "base_uri": "https://localhost:8080/"
    },
    "id": "BdBbpGoB9MCr",
    "outputId": "b190a0bb-2d3b-4513-9a6f-8fa8c618a2bc"
   },
   "outputs": [
    {
     "name": "stdout",
     "output_type": "stream",
     "text": [
      "Best parameters: {'criterion': 'entropy', 'max_depth': 10, 'min_samples_leaf': 2, 'min_samples_split': 6}\n"
     ]
    }
   ],
   "source": [
    "# Prepare a range/set of hyperparameter values for each\n",
    "#param_grid = {\"max_depth\": [3, None], \"min_samples_split\": randint(2, 10), \"min_samples_leaf\": randint(1, 10), \"criterion\": [\"gini\", \"entropy\"]}\n",
    "\n",
    "#model = tree.DecisionTreeClassifier(random_state=randSeed)\n",
    "#Specifics of the random sweep - up to 100 randomly selected hyperparameter combinations\n",
    "#hp_search = RandomizedSearchCV(estimator=model, param_distributions=param_grid, n_iter=100, random_state=randSeed)\n",
    "#hp_search.fit(x_validation, y_validation)\n",
    "\n",
    "#######################################################\n",
    "from sklearn.model_selection import RandomizedSearchCV, GridSearchCV\n",
    "# TODO: Perform a hyperparameter search using your validation data on a classifier (the classifier can be the same structure as the one your have above)\n",
    "param_grid = {\"max_depth\": list(range(3, 11)) + [None], \"min_samples_split\": list(range(2,8)), \"min_samples_leaf\": list(range(1,10)), \"criterion\": [\"gini\", \"entropy\"]}\n",
    "\n",
    "model = tree.DecisionTreeClassifier(random_state=0)\n",
    "# grid search of parameters\n",
    "hp_search = GridSearchCV(estimator=model, param_grid=param_grid)\n",
    "hp_search.fit(X_train, y_train)\n",
    "\n",
    "print(\"Best parameters:\", hp_search.best_params_)\n",
    "#######################################################\n"
   ]
  },
  {
   "cell_type": "markdown",
   "metadata": {
    "id": "Fp7iR1kH3KaR"
   },
   "source": [
    "### Evaluation"
   ]
  },
  {
   "cell_type": "markdown",
   "metadata": {
    "id": "eWLu3_dfKATF"
   },
   "source": [
    "\n",
    "Proper evaluation is critical to making good conclusions. Many metrics and measures of model 'goodness' exist. Part of what differentiates these evaluation methods is understanding the assumptions being made by a given metric, or what the metric prioritizes as important for model goodness. A nice review of key evaluation metrics can be found [here](http://www.davidsbatista.net/blog/2018/08/19/NLP_Metrics/). \n",
    "\n",
    "Below we will apply some different evaluation methods to the model that was trained using the 'optimal' parameter settings identified in the random sweep or grid search. All evaluations will focus on predictive performance on the testing data. \n",
    "\n",
    "The metrics are typically based on calculations using the different possible classification predictions that can be made: True Positives (TP), True Negative (TN), False Positive (FP), and False Negative (FN).  See [here](https://towardsdatascience.com/the-mystery-of-true-positive-true-negative-false-positive-and-false-negative-fd73c78c905a) to review TP, TN, FP, FN.\n"
   ]
  },
  {
   "cell_type": "code",
   "execution_count": null,
   "metadata": {
    "colab": {
     "base_uri": "https://localhost:8080/"
    },
    "id": "qEH58R_T-ybY",
    "outputId": "4532c173-04af-4b71-e3b0-04d8a04c7282"
   },
   "outputs": [
    {
     "name": "stdout",
     "output_type": "stream",
     "text": [
      "[0 1] [0 1]\n",
      "Default parameters:\n",
      "TN = 1193\n",
      "FP = 9\n",
      "FN = 8\n",
      "TP = 1250\n",
      "1250 | 1193 | 9 | 8\n",
      "\n",
      "Tuned parameters:\n",
      "TN = 1195\n",
      "FP = 7\n",
      "FN = 12\n",
      "TP = 1246\n",
      "1246 | 1195 | 7 | 12\n"
     ]
    }
   ],
   "source": [
    "# Sample code for calculating TP, TN, FP and FN for a decision tree\n",
    "#Calculate confusion matrix (true outcomes, predicted outcomes)\n",
    "#TN, FP, FN, TP = confusion_matrix(y_test, dt_test_pred).ravel()\n",
    "\n",
    "#print(\"TP = \"+str(TP))\n",
    "#print(\"FP = \"+str(FP))\n",
    "#print(\"FN = \"+str(FN))\n",
    "#print(\"TN = \"+str(TN))\n",
    "\n",
    "#######################################################\n",
    "# TODO: Compute TP, TN, FP, FN of the simple classifer you trained and the classifier that you tuned\n",
    "from sklearn.metrics import confusion_matrix\n",
    "\n",
    "\n",
    "y_test_pred_default = default_model.predict(X_test)\n",
    "y_test_pred_tuned   = hp_search.predict(X_test)\n",
    "\n",
    "print(np.unique(y_test_pred_default), np.unique(y_test_pred_tuned))\n",
    "\n",
    "TN_d, FP_d, FN_d, TP_d = confusion_matrix(y_test, y_test_pred_default).ravel()\n",
    "TN_t, FP_t, FN_t, TP_t = confusion_matrix(y_test, y_test_pred_tuned).ravel()\n",
    "\n",
    "print(\"Default parameters:\")\n",
    "for k, v in zip(['TN', 'FP', 'FN', 'TP'], [TN_d, FP_d, FN_d, TP_d]):\n",
    "  print(f\"{k} = {v}\")\n",
    "\n",
    "# for\n",
    "print(\" | \".join(map(str, [TP_d, TN_d, FP_d, FN_d])))\n",
    "print()\n",
    "\n",
    "print(\"Tuned parameters:\")\n",
    "for k, v in zip(['TN', 'FP', 'FN', 'TP'], [TN_t, FP_t, FN_t, TP_t]):\n",
    "  print(f\"{k} = {v}\")\n",
    "\n",
    "# for\n",
    "print(\" | \".join(map(str, [TP_t, TN_t, FP_t, FN_t])))\n",
    "\n",
    "\n",
    "\n",
    "\n",
    "#######################################################"
   ]
  },
  {
   "cell_type": "markdown",
   "metadata": {
    "id": "8O_9KuHSIZCK"
   },
   "source": [
    "| Model       | True Positive |True Negative| False Positive| False Negative\n",
    "| :---        |    :----:   |            ---: |           ---: |          ---: |\n",
    "| Model 1     |       1250 | 1193 | 9 | 8  |                |                       \n",
    "| Model 2     |       1246      |       1195        | 7  | 12             |                |                \n"
   ]
  },
  {
   "cell_type": "markdown",
   "metadata": {
    "id": "x9tBLQz2CyVn"
   },
   "source": [
    "These values (TP, FP, FN, TN) are components used to calculate a number of different evaluation metrics for classification tasks:\n",
    "\n",
    "* Accuracy = (TP + TN)/(TP + TN + FP + FN)\n",
    "* Precision (a.k.a. Sensitivity)= TP/(TP + FP)\n",
    "* Recall (a.k.a. True Positive Rate) = TP/(TP + FN)\n",
    "* Specificity = TN/(TN + FP)\n",
    "* False Positive Rate = FP/(FP + TN)\n",
    "\n",
    "* F1 Score = 2*(Precision * Recall)/(Precision + Recall)\n",
    "* Balanced Accuracy = (Sensitivity + Specificity)/2\n",
    "\n"
   ]
  },
  {
   "cell_type": "code",
   "execution_count": null,
   "metadata": {
    "colab": {
     "base_uri": "https://localhost:8080/"
    },
    "id": "hVFu5A1_DfMJ",
    "outputId": "befb83c4-038f-4cb1-becc-ad700b893ee3"
   },
   "outputs": [
    {
     "name": "stdout",
     "output_type": "stream",
     "text": [
      "Default parameters:\n",
      "Accuracy            : 0.9931\n",
      "Sensitivity         : 0.9929\n",
      "Recall              : 0.9936\n",
      "Specificity         : 0.9925\n",
      "False Positive Rate : 0.0075\n",
      "F1 Score            : 0.9932\n",
      "Balance Accuracy    : 0.9927\n",
      "0.9931 | 0.9929 | 0.9936 | 0.9925 | 0.0075 | 0.9932 | 0.9927\n",
      "\n",
      "Tuned parameters:\n",
      "Accuracy            : 0.9923\n",
      "Sensitivity         : 0.9944\n",
      "Recall              : 0.9905\n",
      "Specificity         : 0.9942\n",
      "False Positive Rate : 0.0058\n",
      "F1 Score            : 0.9924\n",
      "Balance Accuracy    : 0.9943\n",
      "0.9923 | 0.9944 | 0.9905 | 0.9942 | 0.0058 | 0.9924 | 0.9943\n"
     ]
    }
   ],
   "source": [
    "#######################################################\n",
    "# TODO: Compute the accuracy, precision, recall etc. of the simple classifer you trained and the classifier that you tuned\n",
    "\n",
    "# default model\n",
    "acc_d = (TP_d + TN_d)/(TP_d + TN_d + FP_d + FN_d) # accuracy\n",
    "prc_d = TP_d/(TP_d + FP_d) # precision or sensitivity\n",
    "rec_d = TP_d/(TP_d + FN_d) # recall or true prositive rate\n",
    "spc_d = TN_d/(TN_d + FP_d) # specificitiy\n",
    "fpr_d = FP_d/(FP_d + TN_d) # false positive rate\n",
    "f1s_d = 2*prc_d*rec_d/(prc_d + rec_d) # F1 score\n",
    "bac_d = (prc_d + spc_d)/2 # balanced accuracy\n",
    "\n",
    "# tuned model\n",
    "acc_t = (TP_t + TN_t)/(TP_t + TN_t + FP_t + FN_t) # accuracy\n",
    "prc_t = TP_t/(TP_t + FP_t) # precision or sensitivity\n",
    "rec_t = TP_t/(TP_t + FN_t) # recall or true prositive rate\n",
    "spc_t = TN_t/(TN_t + FP_t) # specificitiy\n",
    "fpr_t = FP_t/(FP_t + TN_t) # false positive rate\n",
    "f1s_t = 2*prc_t*rec_t/(prc_t + rec_t) # F1 score\n",
    "bac_t = (prc_t + spc_t)/2 # balanced accuracy\n",
    "\n",
    "score_names = [\"Accuracy\", \"Sensitivity\", \"Recall\", \"Specificity\",\n",
    "               \"False Positive Rate\", \"F1 Score\", \"Balance Accuracy\"]\n",
    "scores_d = [acc_d, prc_d, rec_d, spc_d, fpr_d, f1s_d, bac_d]\n",
    "scores_t = [acc_t, prc_t, rec_t, spc_t, fpr_t, f1s_t, bac_t]\n",
    "\n",
    "max_strlen = max(map(len, score_names))\n",
    "\n",
    "print(\"Default parameters:\")\n",
    "for name, score in zip(score_names, scores_d):\n",
    "  print(f\"{name:{max_strlen+1}s}: {score:.4f}\")\n",
    "\n",
    "# for\n",
    "print(\" | \".join(map(lambda x: str(np.round(x, 4)), scores_d)))\n",
    "print()\n",
    "\n",
    "print(\"Tuned parameters:\")\n",
    "for name, score in zip(score_names, scores_t):\n",
    "  print(f\"{name:{max_strlen+1}s}: {score:.4f}\")\n",
    "\n",
    "# for\n",
    "print(\" | \".join(map(lambda x: str(np.round(x, 4)), scores_t)))\n",
    "\n",
    "#######################################################"
   ]
  },
  {
   "cell_type": "markdown",
   "metadata": {
    "id": "H1wJ1w4Mve48"
   },
   "source": [
    "| Model       | Accuracy |Precision| Recall| Specificity | False Positive Rate | F1 Score | Balanced Accuracy\n",
    "| :---        |    :----:   |            ---: |           ---: |          ---: | :---        | :---        | :---        |\n",
    "| Model 1     | 0.9931 | 0.9929 | 0.9936 | 0.9925 | 0.0075 | 0.9932 | 0.9927\n",
    "| Model 2     | 0.9923 | 0.9944 | 0.9905 | 0.9942 | 0.0058 | 0.9924 | 0.9943\n"
   ]
  },
  {
   "cell_type": "markdown",
   "metadata": {
    "id": "98FuyXRDD5yq"
   },
   "source": [
    "### ROC Curve and AUC metric \n",
    "The ROC curve is a metric used for the evaluation of binary classification models, where we evaluate how the model would perform if different cutoff thresholds (of predicted class probability) between the two classes were considered. This is useful when we don't necessarily know which class is more important to predict accurately. For example, if we wanted to evaluate how well a test for a highly infectious disease worked, we would care much more about identifying positive individuals correctly than negative individuals, even at the expense of additional false positives.\n",
    "\n",
    "To calculate a ROC curve first we need to get the class prediction probabilites from the model, rather than just the predicted classes, since these predicted classes were decided based on a predetermined classification threshold."
   ]
  },
  {
   "cell_type": "code",
   "execution_count": null,
   "metadata": {
    "colab": {
     "base_uri": "https://localhost:8080/",
     "height": 346
    },
    "id": "oXUIlOVQEL3S",
    "outputId": "254bc141-6737-44af-d69d-c248c1074217"
   },
   "outputs": [
    {
     "name": "stdout",
     "output_type": "stream",
     "text": [
      "ROC AUC\n",
      "Default:  0.9930765893621918\n",
      "Tuned:  0.992713852640935\n"
     ]
    },
    {
     "data": {
      "image/png": "[encoded data removed]",
      "text/plain": [
       "<Figure size 432x288 with 1 Axes>"
      ]
     },
     "metadata": {
      "needs_background": "light"
     },
     "output_type": "display_data"
    }
   ],
   "source": [
    "# Sample code for you to calculate ROC\n",
    "#Determine probabilities of class predictions for each test instance (this will be used much later in calculating an ROC curve)\n",
    "#probas_ = dt.fit(x_train_fs, y_train).predict_proba(x_test_fs)\n",
    "\n",
    "# Compute ROC curve and area the curve\n",
    "#fpr, tpr, thresholds = metrics.roc_curve(y_test, probas_[:, 1])\n",
    "#roc_auc = auc(fpr, tpr)\n",
    "\n",
    "#Plot the ROC Curve and include AUC in figure. \n",
    "#plt.figure()\n",
    "#lw = 2\n",
    "#plt.plot(fpr, tpr, color='darkorange',\n",
    "#         lw=lw, label='ROC curve (area = %0.2f)' % roc_auc)\n",
    "#plt.plot([0, 1], [0, 1], color='navy', lw=lw, linestyle='--')\n",
    "#plt.xlim([0.0, 1.0])\n",
    "#plt.ylim([0.0, 1.05])\n",
    "#plt.xlabel('False Positive Rate')\n",
    "#plt.ylabel('True Positive Rate')\n",
    "#plt.title('Receiver operating characteristic example')\n",
    "#plt.legend(loc=\"lower right\")\n",
    "#plt.show()\n",
    "\n",
    "#######################################################\n",
    "# TODO: Visualize the ROC and AUC for your models\n",
    "from sklearn.metrics import roc_curve, auc\n",
    "probas_t = hp_search.predict_proba(X_test)\n",
    "probas_d = default_model.predict_proba(X_test)\n",
    "\n",
    "fpr_t, tpr_t, thresholds = roc_curve(y_test, probas_t[:,1])\n",
    "fpr_d, tpr_d, thresholds = roc_curve(y_test, probas_d[:,1])\n",
    "\n",
    "roc_auc_t = auc(fpr_t, tpr_t)\n",
    "roc_auc_d = auc(fpr_d, tpr_d)\n",
    "\n",
    "print(\"ROC AUC\")\n",
    "print(\"Default: \", roc_auc_d)\n",
    "print(\"Tuned: \", roc_auc_t)\n",
    "\n",
    "plt.figure()\n",
    "lw = 2\n",
    "plt.plot(fpr_t, tpr_t, color='darkorange', lw=lw, label=f'tuned ROC curve (area = {roc_auc_t:.3f})')\n",
    "plt.plot(fpr_d, tpr_d, color='red', lw=lw, label=f'default ROC curve (area = {roc_auc_d:.3f})')\n",
    "plt.plot([0,1], [0,1], color='navy', lw=lw, linestyle='--')\n",
    "plt.xlim([0,1])\n",
    "plt.ylim([0, 1.05])\n",
    "plt.xlabel('False Positive Rate')\n",
    "plt.ylabel('True Positive Rate')\n",
    "plt.title(\"ROC Curve of Tuned Hyperparameter model\")\n",
    "plt.legend(loc = 'lower right')\n",
    "plt.show()\n",
    "\n",
    "#######################################################"
   ]
  },
  {
   "cell_type": "markdown",
   "metadata": {
    "id": "DpnuHm0jFI1b"
   },
   "source": [
    "#### Discussion questions:\n",
    "\n",
    "1.   Which classifer performed better? Why? \n",
    "    <br><br>\n",
    "    <font color='blue'>\n",
    "    They both appear to perform relatively well on this dataset. It could be because the dataset is easy to learn that most parameters with infinite depth can learn it. The default parameters had a slightly larger AUC for the ROC curve, however it's false positive rate was higher than that of the tuned. Furthermore the tuned model has a higher balanced accuracy than the default parameters.\n",
    "</font>\n",
    "<br><br>\n",
    "2. What other methods could you do to increase the performance of your model on a held out test set?\n",
    "<br><br>\n",
    "    <font color='blue'>\n",
    "    The models already perform, really well as is (as seen in the ROC curve). We could improve learning by increaing the number of parameters we search for in our grid search method.\n",
    "</font>\n",
    "<br><br>\n",
    "\n",
    "\n"
   ]
  },
  {
   "cell_type": "markdown",
   "metadata": {
    "id": "gQEEd9TUMNce"
   },
   "source": [
    "## Feedback\n",
    "\n",
    "Please provide us with some feedback on how long each section or this homework overall took you. Any other feedback is also welcomed. "
   ]
  },
  {
   "cell_type": "markdown",
   "metadata": {
    "id": "ll5FhwgKx4K6"
   },
   "source": [
    "## Submit\n",
    "Great work! You're all done.\n",
    "\n",
    "Make sure to submit this Python notebook (as a PDF) and the dataset you created as a zip file. See the homework writeup for directions."
   ]
  }
 ],
 "metadata": {
  "colab": {
   "collapsed_sections": [],
   "name": "CS475_homework1 practicum HK DL.ipynb",
   "provenance": []
  },
  "kernelspec": {
   "display_name": "Python 3 (ipykernel)",
   "language": "python",
   "name": "python3"
  },
  "language_info": {
   "codemirror_mode": {
    "name": "ipython",
    "version": 3
   },
   "file_extension": ".py",
   "mimetype": "text/x-python",
   "name": "python",
   "nbconvert_exporter": "python",
   "pygments_lexer": "ipython3",
   "version": "3.8.3"
  }
 },
 "nbformat": 4,
 "nbformat_minor": 1
}
